{
 "cells": [
  {
   "cell_type": "markdown",
   "id": "buried-flush",
   "metadata": {},
   "source": [
    "# Backpropagation through softmax layer"
   ]
  },
  {
   "cell_type": "markdown",
   "id": "bizarre-viking",
   "metadata": {},
   "source": [
    "Have you ever wondered, how can we backpropagate the gradient through a softmax layer? If you were to google it, you would find lots of articles (such as [this one](https://eli.thegreenplace.net/2016/the-softmax-function-and-its-derivative/), which helped me a lot), but most of them prove the formula of the softmax's derivative and then jump straight to the backpropagation of cross-entropy loss through the softmax layer. And while normalizing the networks' output before computing the classification loss is the most common use of softmax, those formulas have little to do with the actual backpropagation through the softmax layer itself, more like the backpropagation through the cross-entropy loss.\n",
    "\n",
    "You sure can compute softmax as part of the loss to ease the computation and most modern libraries do that for you (e.g. see the [nn.CrossEntropyLoss](https://pytorch.org/docs/stable/generated/torch.nn.CrossEntropyLoss.html) docs), but what if we were to use softmax in a middle of a network? Can we efficiently propagate gradient through such layer, if we only have the `forward` and `backward` methods and are only given our output's gradient on the backward pass? It turns out that we can and we can do this very efficiently! Let me show you such method!\n",
    "\n",
    "However, first let's consider the straight-forward approach, which is to compute the jacobian matrix and multiply the output gradient by it:\n",
    "\n",
    "$$\n",
    "\\frac{\\partial L}{\\partial X} = \\frac{\\partial L}{\\partial Y} \\frac{\\partial Y}{\\partial X}\n",
    "$$\n",
    "\n",
    "Here $\\frac{\\partial L}{\\partial X}$ and $\\frac{\\partial L}{\\partial Y}$ are 2d tensors of shape $[B, N]$, where $B$ is a batch size and $N$ is a number of features and $\\frac{\\partial Y}{\\partial X}$ is the softmax jacobian, which in such batched case is a 3d tensor of shape $[B, N, N]$. Multiplication denotes the batched matrix multiplication.\n",
    "\n",
    "Let's implement this approach as a baseline. The derivative of the softmax can be calculated as:\n",
    "\n",
    "$$\n",
    "\\frac{\\partial \\sigma(x)_i}{\\partial x_j} = \\sigma(x)_i (1_{i=j} - \\sigma(x)_j)\n",
    "$$\n",
    "\n",
    "Which yields the formula for a batched jacobian:\n",
    "\n",
    "$$\n",
    "\\frac{\\partial Y_{ik}}{\\partial X_{ij}} = Y_{ik} (1_{k=j} - Y_{ij})\n",
    "$$\n",
    "\n",
    "Please note that $i$ denotes the item in batch and computation is done for each item independently."
   ]
  },
  {
   "cell_type": "code",
   "execution_count": 1,
   "id": "sophisticated-atlas",
   "metadata": {},
   "outputs": [],
   "source": [
    "import numpy as np\n",
    "\n",
    "def softmax(input_, axis=1):\n",
    "    exp_input = np.exp(input_)\n",
    "    return exp_input / exp_input.sum(axis, keepdims=True)\n",
    "\n",
    "# Let's fix random seed and dimensions.\n",
    "rng = np.random.default_rng(42)\n",
    "batch_size, n_features = 32, 512"
   ]
  },
  {
   "cell_type": "code",
   "execution_count": 2,
   "id": "intellectual-absolute",
   "metadata": {},
   "outputs": [],
   "source": [
    "# Forward pass.\n",
    "# Suppose we got some input (i.e. X).\n",
    "input_ = rng.random((batch_size, n_features))\n",
    "\n",
    "# Now we apply the softmax to get the output (i.e. Y).\n",
    "output = softmax(input_, axis=1)"
   ]
  },
  {
   "cell_type": "code",
   "execution_count": 3,
   "id": "partial-watershed",
   "metadata": {},
   "outputs": [],
   "source": [
    "# Backward pass.\n",
    "# Suppose we got some output_grad (i.e. dL/dY).\n",
    "output_grad = rng.random((batch_size, n_features))\n",
    "\n",
    "# Now we need to compute the input_grad (i.e. dL/dX).\n",
    "# For that we want to compute the jacobian (i.e. dY/dX).\n",
    "identity = np.eye(output.shape[1], dtype=output.dtype)\n",
    "jacobian = output[:, :, None] * (identity[None, :, :] - output[:, None, :])\n",
    "\n",
    "# Now we compute the input_grad.\n",
    "input_grad = (jacobian @ output_grad[:, :, None]).squeeze(2)"
   ]
  },
  {
   "cell_type": "markdown",
   "id": "streaming-plenty",
   "metadata": {},
   "source": [
    "---\n",
    "\n",
    "**Quick note**. If you want to make sure, that we did in fact compute the correct gradient, you can do so using the PyTorch's autograd with the following code."
   ]
  },
  {
   "cell_type": "code",
   "execution_count": 4,
   "id": "unable-variance",
   "metadata": {},
   "outputs": [],
   "source": [
    "import torch\n",
    "\n",
    "# Convert our random data into pytorch tensors.\n",
    "torch_input = torch.tensor(input_, requires_grad=True)\n",
    "torch_output_grad = torch.from_numpy(output_grad)\n",
    "\n",
    "# Compute softmax (retain grad to check the intermediate gradient).\n",
    "torch_output = torch.softmax(torch_input, axis=1)\n",
    "torch_output.retain_grad()\n",
    "\n",
    "# Sum the output with the output_grad coefficients.\n",
    "# This will make the gradient torch_output.grad be equal to output_grad.\n",
    "loss = (torch_output * torch_output_grad).sum()\n",
    "loss.backward()\n",
    "assert np.allclose(torch_output.grad.detach().numpy(), output_grad)\n",
    "\n",
    "# Now that we have correct output_grad, let's check the input gradient.\n",
    "assert np.allclose(torch_input.grad.detach().numpy(), input_grad)\n",
    "\n",
    "# If this cell didn't raise any AssertionErrors, then we did everything right."
   ]
  },
  {
   "cell_type": "markdown",
   "id": "lightweight-still",
   "metadata": {},
   "source": [
    "---"
   ]
  },
  {
   "cell_type": "markdown",
   "id": "grand-graph",
   "metadata": {},
   "source": [
    "Now let's move on to the second approach, which will allow us to compute the $\\frac{\\partial L}{\\partial X}$ without explicitely computing the jacobian. This is very important as it means that we wouldn't need to store possibly quite heavy 3d tensor in memory.\n",
    "\n",
    "In order for this to work, let's write down the jacobian-based formula and substitute the $\\frac{\\partial Y}{\\partial X}$:\n",
    "\n",
    "$$\n",
    "\\frac{\\partial L}{\\partial X} = \\frac{\\partial L}{\\partial Y} \\frac{\\partial Y}{\\partial X} \\Rightarrow \\frac{\\partial L}{\\partial X_{ij}} = \\sum_{k=1}^N \\frac{\\partial L}{\\partial Y_{ik}} \\frac{\\partial Y_{ik}}{\\partial X_{ij}} = \\sum_{k=1}^N \\frac{\\partial L}{\\partial Y_{ik}} Y_{ik} (1_{k=j} - Y_{ij})\n",
    "$$\n",
    "\n",
    "Now let's look at the terms separately:\n",
    "\n",
    "$$\n",
    "\\frac{\\partial L}{\\partial X_{ij}} = \\sum_{k=1}^N \\frac{\\partial L}{\\partial Y_{ik}} Y_{ik} 1_{k=j} - \\sum_{k=1}^N \\frac{\\partial L}{\\partial Y_{ik}} Y_{ik} Y_{ij}\n",
    "$$\n",
    "\n",
    "First one contains a sum out of which only one element isn't a zero because of the indicator and in second sum we can take the $Y_{ij}$ out of summation, because it doesn't contain $k$:\n",
    "\n",
    "$$\n",
    "\\frac{\\partial L}{\\partial X_{ij}} = \\frac{\\partial L}{\\partial Y_{ij}} Y_{ij} - \\left(\\sum_{k=1}^N \\frac{\\partial L}{\\partial Y_{ik}} Y_{ik}\\right) Y_{ij} = \\left( \\frac{\\partial L}{\\partial Y_{ij}} - \\sum_{k=1}^N \\frac{\\partial L}{\\partial Y_{ik}} Y_{ik} \\right) Y_{ij}\n",
    "$$\n",
    "\n",
    "And this is in fact something we can compute."
   ]
  },
  {
   "cell_type": "code",
   "execution_count": 5,
   "id": "modern-alloy",
   "metadata": {},
   "outputs": [],
   "source": [
    "input_grad_v2 = (output_grad - (output_grad * output).sum(axis=1, keepdims=True)) * output\n",
    "assert np.allclose(input_grad, input_grad_v2)"
   ]
  },
  {
   "cell_type": "markdown",
   "id": "accepted-airline",
   "metadata": {},
   "source": [
    "We get exact same result without any need of generating the identity matrix and/or materializing the jacobian in memory! Profiling the memory use in python can be tricky, so let's instead check the time requirements for these two methods:"
   ]
  },
  {
   "cell_type": "code",
   "execution_count": 6,
   "id": "retained-beijing",
   "metadata": {},
   "outputs": [],
   "source": [
    "def backward(output, output_grad):\n",
    "    identity = np.eye(output.shape[1], dtype=output.dtype)\n",
    "    jacobian = output[:, :, None] * (identity[None, :, :] - output[:, None, :])\n",
    "    return (jacobian @ output_grad[:, :, None]).squeeze(2)\n",
    "\n",
    "def backward_v2(output, output_grad):\n",
    "    return (output_grad - (output_grad * output).sum(axis=1, keepdims=True)) * output"
   ]
  },
  {
   "cell_type": "code",
   "execution_count": 7,
   "id": "disciplinary-stroke",
   "metadata": {},
   "outputs": [
    {
     "name": "stdout",
     "output_type": "stream",
     "text": [
      "65.1 ms ± 13.2 ms per loop (mean ± std. dev. of 7 runs, 10 loops each)\n"
     ]
    }
   ],
   "source": [
    "%timeit backward(output, output_grad)"
   ]
  },
  {
   "cell_type": "code",
   "execution_count": 8,
   "id": "electrical-planner",
   "metadata": {},
   "outputs": [
    {
     "name": "stdout",
     "output_type": "stream",
     "text": [
      "31.9 µs ± 44.3 ns per loop (mean ± std. dev. of 7 runs, 10000 loops each)\n"
     ]
    }
   ],
   "source": [
    "%timeit backward_v2(output, output_grad)"
   ]
  },
  {
   "cell_type": "markdown",
   "id": "protected-plasma",
   "metadata": {},
   "source": [
    "We get 2000 times faster performance and this is just a moderate-sized input we are talking about! So the second version seems the way to go and allows us to propagate gradient through our softmax layer pretty efficiently.\n",
    "\n",
    "Hope this was useful and thank you for your time!"
   ]
  },
  {
   "cell_type": "code",
   "execution_count": null,
   "id": "black-fault",
   "metadata": {},
   "outputs": [],
   "source": []
  }
 ],
 "metadata": {
  "kernelspec": {
   "display_name": "kaggle",
   "language": "python",
   "name": "kaggle"
  },
  "language_info": {
   "codemirror_mode": {
    "name": "ipython",
    "version": 3
   },
   "file_extension": ".py",
   "mimetype": "text/x-python",
   "name": "python",
   "nbconvert_exporter": "python",
   "pygments_lexer": "ipython3",
   "version": "3.9.6"
  }
 },
 "nbformat": 4,
 "nbformat_minor": 5
}
